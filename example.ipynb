{
 "cells": [
  {
   "cell_type": "markdown",
   "source": [
    "# Ryght SDK \n",
    "## Import Necessary libraries to Use the Ryght Platform's SDK\n"
   ],
   "metadata": {
    "collapsed": false
   },
   "id": "a88fbf909ecd57d6"
  },
  {
   "cell_type": "markdown",
   "source": [
    "### External Library Imports"
   ],
   "metadata": {
    "collapsed": false
   },
   "id": "5630fe1afa98ebfb"
  },
  {
   "cell_type": "code",
   "outputs": [],
   "source": [
    "from dotenv import find_dotenv"
   ],
   "metadata": {
    "collapsed": false,
    "ExecuteTime": {
     "end_time": "2024-03-27T17:10:22.048165Z",
     "start_time": "2024-03-27T17:10:22.040586Z"
    }
   },
   "id": "8b17201643364253",
   "execution_count": 1
  },
  {
   "cell_type": "markdown",
   "source": [
    "### Ryght SDK Imports"
   ],
   "metadata": {
    "collapsed": false
   },
   "id": "1af65615ffd4895e"
  },
  {
   "cell_type": "code",
   "outputs": [
    {
     "name": "stderr",
     "output_type": "stream",
     "text": [
      "/Users/synth/wd/synthetica_bio/gitlab/platform-client-starter-python/.venv/lib/python3.11/site-packages/pydantic/_internal/_fields.py:151: UserWarning: Field \"model_specification\" has conflict with protected namespace \"model_\".\n",
      "\n",
      "You may be able to resolve this warning by setting `model_config['protected_namespaces'] = ()`.\n",
      "  warnings.warn(\n"
     ]
    }
   ],
   "source": [
    "from ryght.utils import FlowTypes\n",
    "from ryght.models import JsonDocument\n",
    "from ryght.configs import Credentials\n",
    "from ryght.clients.user import RyghtClient\n",
    "from ryght.utils import initialize_logging, ModelOperation"
   ],
   "metadata": {
    "collapsed": false,
    "ExecuteTime": {
     "end_time": "2024-03-27T17:10:22.190544Z",
     "start_time": "2024-03-27T17:10:22.050030Z"
    }
   },
   "id": "470e15fb4ff851bb",
   "execution_count": 2
  },
  {
   "cell_type": "markdown",
   "source": [
    "### Setup logger\n",
    "\n",
    "To get started, you can take advantage of inbuilt helper function to set up a logger. Get logger by calling `initialize_logging()`, pass the path to log file of your choice."
   ],
   "metadata": {
    "collapsed": false
   },
   "id": "70134cd845937238"
  },
  {
   "cell_type": "code",
   "outputs": [],
   "source": [
    "path_to_log_file = './logs/playground.logs'\n",
    "logger = initialize_logging(path_to_log_file)"
   ],
   "metadata": {
    "collapsed": false,
    "ExecuteTime": {
     "end_time": "2024-03-27T17:10:22.196590Z",
     "start_time": "2024-03-27T17:10:22.192617Z"
    }
   },
   "id": "e087cbcce85b9eab",
   "execution_count": 3
  },
  {
   "cell_type": "markdown",
   "source": [
    "# Ryght User Client\n",
    "\n",
    "Let us see how we can set up a user client and configure them. \n",
    "\n",
    "First to instantiate a client object, we would need the credentials and some config parameters."
   ],
   "metadata": {
    "collapsed": false
   },
   "id": "9337598b015c7ffe"
  },
  {
   "cell_type": "markdown",
   "source": [
    "\n",
    "## 01. Credentials\n",
    "\n",
    "Credentials can be provided to our client in three ways,\n",
    "- Provide credentials as a key value pair\n",
    "- Provide credentials as a ```Credentials``` object.\n",
    "- Provide credentials from environment variables\n",
    "\n",
    "We will see an example for each,"
   ],
   "metadata": {
    "collapsed": false
   },
   "id": "f4b4582a3728b947"
  },
  {
   "cell_type": "markdown",
   "source": [
    "### 1.1 Provide Credentials via a dictionary object"
   ],
   "metadata": {
    "collapsed": false
   },
   "id": "38e728fd527e227f"
  },
  {
   "cell_type": "code",
   "outputs": [
    {
     "data": {
      "text/plain": "{'username': 'userid',\n 'password': 'Password',\n 'client_id': 'client_id',\n 'client_secret': 'fsdfsdf',\n 'organization': 'Ryght Community'}"
     },
     "execution_count": 4,
     "metadata": {},
     "output_type": "execute_result"
    }
   ],
   "source": [
    "creds = {\n",
    "    'username': 'userid',\n",
    "    'password': 'Password',\n",
    "    'client_id': 'client_id',\n",
    "    'client_secret': 'fsdfsdf',\n",
    "    'organization': 'Ryght Community'\n",
    "}\n",
    "creds"
   ],
   "metadata": {
    "collapsed": false,
    "ExecuteTime": {
     "end_time": "2024-03-27T17:10:22.202027Z",
     "start_time": "2024-03-27T17:10:22.197709Z"
    }
   },
   "id": "182c1cf604a690f6",
   "execution_count": 4
  },
  {
   "cell_type": "markdown",
   "source": [
    "### 1.2 Load credentials from environment variable \n",
    "\n",
    "Say you have stored your credentials in environment variable, then you can load them directly from that.\n",
    "\n",
    "We will set the env variables manually for mock purposes, will catch them using ```Credentials``` function ```from_environment_variables()```"
   ],
   "metadata": {
    "collapsed": false
   },
   "id": "2c8405793f04620f"
  },
  {
   "cell_type": "code",
   "outputs": [],
   "source": [
    "import os\n",
    "os.environ[\"RYGHT_USERNAME\"] = \"username\"\n",
    "os.environ[\"RYGHT_PASSWORD\"] = \"password\"\n",
    "os.environ[\"RYGHT_CLIENT_ID\"] = \"im client ID\"\n",
    "os.environ[\"RYGHT_CLIENT_SECRET\"] = \"sshh..its a secret\"\n",
    "os.environ[\"RYGHT_ORGANIZATION\"] = \"Iam an Org\""
   ],
   "metadata": {
    "collapsed": false,
    "ExecuteTime": {
     "end_time": "2024-03-27T17:10:22.663217Z",
     "start_time": "2024-03-27T17:10:22.660202Z"
    }
   },
   "id": "fd7d3186010598a",
   "execution_count": 5
  },
  {
   "cell_type": "code",
   "outputs": [
    {
     "data": {
      "text/plain": "Credentials(username='username', password='password', client_id='im client ID', organization='Iam an Org', client_secret='sshh..its a secret')"
     },
     "execution_count": 6,
     "metadata": {},
     "output_type": "execute_result"
    }
   ],
   "source": [
    "creds = Credentials.from_environment_variables()\n",
    "creds"
   ],
   "metadata": {
    "collapsed": false,
    "ExecuteTime": {
     "end_time": "2024-03-27T17:10:22.872527Z",
     "start_time": "2024-03-27T17:10:22.865393Z"
    }
   },
   "id": "8a15f7d8d4669439",
   "execution_count": 6
  },
  {
   "cell_type": "markdown",
   "source": [
    "### 1.3 Load Credentials from .env file\n",
    "\n",
    "Alternatively, you can also load credential variables directly from an .env file as well. Give the path to the .env files and you can use that to load your credentials. \n",
    "\n",
    "Lets find the path to the file using `find_dotenv` function"
   ],
   "metadata": {
    "collapsed": false
   },
   "id": "f67d617864e7e9cf"
  },
  {
   "cell_type": "code",
   "outputs": [
    {
     "data": {
      "text/plain": "'/Users/synth/wd/synthetica_bio/gitlab/platform-client-starter-python/.env'"
     },
     "execution_count": 7,
     "metadata": {},
     "output_type": "execute_result"
    }
   ],
   "source": [
    "dotenv_path = find_dotenv('.env')\n",
    "dotenv_path"
   ],
   "metadata": {
    "collapsed": false,
    "ExecuteTime": {
     "end_time": "2024-03-27T17:10:23.331515Z",
     "start_time": "2024-03-27T17:10:23.320658Z"
    }
   },
   "id": "424ee1fd8a5b3322",
   "execution_count": 7
  },
  {
   "cell_type": "code",
   "outputs": [
    {
     "data": {
      "text/plain": "Credentials(username='sudo@ryght.ai', password='kK6K49YKkEc8QgE', client_id='ryght-client', organization='Ryght Preview', client_secret='EnUC7kyOYNf2uuQjZpC1T3IuJOBjk8XY')"
     },
     "execution_count": 8,
     "metadata": {},
     "output_type": "execute_result"
    }
   ],
   "source": [
    "creds = Credentials(_env_file='.env')\n",
    "creds"
   ],
   "metadata": {
    "collapsed": false,
    "ExecuteTime": {
     "end_time": "2024-03-27T17:10:23.507044Z",
     "start_time": "2024-03-27T17:10:23.500804Z"
    }
   },
   "id": "b11b43d3f6987f93",
   "execution_count": 8
  },
  {
   "cell_type": "markdown",
   "source": [
    "## 02. Ryght User Client Creation\n",
    "\n",
    "With credentials in hand (obtained using one of the above-mentioned ways), we fulfilled min required params for creating a client. I will use `.env.local` file to load my credentials"
   ],
   "metadata": {
    "collapsed": false
   },
   "id": "f4cb701d7fa252b1"
  },
  {
   "cell_type": "code",
   "outputs": [],
   "source": [
    "user_client = RyghtClient(\n",
    "    creds\n",
    ")"
   ],
   "metadata": {
    "collapsed": false,
    "ExecuteTime": {
     "end_time": "2024-03-27T17:10:24.734656Z",
     "start_time": "2024-03-27T17:10:23.886351Z"
    }
   },
   "id": "81586faea94274da",
   "execution_count": 9
  },
  {
   "cell_type": "code",
   "outputs": [
    {
     "data": {
      "text/plain": "Token(token_type='Bearer', expires_in=1800, access_token='eyJhbGciOiJSUzI1NiIsInR5cCIgOiAiSldUIiwia2lkIiA6ICJXaWVUVHU3VVA5ZkU3UGVEZE5wcDdzdnNKcXp3WGRaSDhKNjM3RXBFNWJRIn0.eyJleHAiOjE3MTE1NjEyMjQsImlhdCI6MTcxMTU1OTQyNCwianRpIjoiYjNlMDE1Y2UtNTNmOC00Njg0LWFkNmEtMzViNjBlNzIyYWM3IiwiaXNzIjoiaHR0cHM6Ly9hdXRoLXByZXZpZXcucnlnaHQuYWkvYXV0aC9yZWFsbXMvcnlnaHQtcmVhbG0iLCJhdWQiOiJhY2NvdW50Iiwic3ViIjoiNjRlOTVjZjgtNDE4Zi00ZTc2LTg4MTgtZjEyNjljM2MwMDU1IiwidHlwIjoiQmVhcmVyIiwiYXpwIjoicnlnaHQtY2xpZW50Iiwic2Vzc2lvbl9zdGF0ZSI6IjQ1NTk2MGQwLTRhMmYtNDc4YS04M2Q4LWM0ZjBkZWY3YmU0OSIsImFjciI6IjEiLCJhbGxvd2VkLW9yaWdpbnMiOlsiaHR0cHM6Ly9wcmV2aWV3LnJ5Z2h0LmFpLyoiLCJodHRwOi8vbG9jYWxob3N0OjMwMDAvKiJdLCJyZWFsbV9hY2Nlc3MiOnsicm9sZXMiOlsiZGVmYXVsdC1yb2xlcy1yeWdodC1yZWFsbSIsIm9mZmxpbmVfYWNjZXNzIiwidW1hX2F1dGhvcml6YXRpb24iLCJyeWdodC1hZG1pbiJdfSwicmVzb3VyY2VfYWNjZXNzIjp7ImFjY291bnQiOnsicm9sZXMiOlsibWFuYWdlLWFjY291bnQiLCJtYW5hZ2UtYWNjb3VudC1saW5rcyIsInZpZXctcHJvZmlsZSJdfX0sInNjb3BlIjoiZW1haWwgcHJvZmlsZSIsInNpZCI6IjQ1NTk2MGQwLTRhMmYtNDc4YS04M2Q4LWM0ZjBkZWY3YmU0OSIsImVtYWlsX3ZlcmlmaWVkIjp0cnVlLCJjdXJyZW50X29yZyI6eyJyb2xlcyI6W10sIm5hbWUiOiJSeWdodCBQcmV2aWV3IiwiaWQiOiIzY2VkZTJjZS1mYjBjLTQxYmEtYTVkZS0wMjRjNjkzZDdjNjgifSwibmFtZSI6IlN1ZG8gU3VkbyIsInByZWZlcnJlZF91c2VybmFtZSI6InN1ZG9AcnlnaHQuYWkiLCJnaXZlbl9uYW1lIjoiU3VkbyIsImZhbWlseV9uYW1lIjoiU3VkbyIsImVtYWlsIjoic3Vkb0ByeWdodC5haSJ9.AHEslDNhXEyZx98AjG9GBVX_PvHBm9rMdaOiyfHJ80BHTHjY4EgMbsV2CcbVmFE_5TZ-GSHE6txmb5SPqaPTi9Pd95qvVq2FtoMMq0iyPzOOBDl-12vgtEHldiW6SDSkegLdOh6uepLggKYPNQAjoG8fL4CfP4E_XamEyzv29POHgfOvhEBQ9BJ_oUvB_N-Foff9sAIIUnw-3q7NhWwDGcw8T0VKpA2TKnkurb_XdMSyyvM-wjuzbRWu5e21gKPcuPCZgtOJItJPDj-ZeTgCDf7onF0wVwxGS8FHrZMpZuFPMpUM53qQ5wikpNuugYlhznUs7wI-x4aw5M9M8ovfFg', refresh_token='eyJhbGciOiJIUzI1NiIsInR5cCIgOiAiSldUIiwia2lkIiA6ICJhMzE2ZjQxYS1hZTg2LTQ1YjMtYWU1Mi05YzM2NTU1ZjVmNDkifQ.eyJleHAiOjE3MTE1NjEyMjQsImlhdCI6MTcxMTU1OTQyNCwianRpIjoiZWZiN2M1ZTQtZGEwYi00NTZiLTkxY2UtZWY5NTQ5OTRiOTkyIiwiaXNzIjoiaHR0cHM6Ly9hdXRoLXByZXZpZXcucnlnaHQuYWkvYXV0aC9yZWFsbXMvcnlnaHQtcmVhbG0iLCJhdWQiOiJodHRwczovL2F1dGgtcHJldmlldy5yeWdodC5haS9hdXRoL3JlYWxtcy9yeWdodC1yZWFsbSIsInN1YiI6IjY0ZTk1Y2Y4LTQxOGYtNGU3Ni04ODE4LWYxMjY5YzNjMDA1NSIsInR5cCI6IlJlZnJlc2giLCJhenAiOiJyeWdodC1jbGllbnQiLCJzZXNzaW9uX3N0YXRlIjoiNDU1OTYwZDAtNGEyZi00NzhhLTgzZDgtYzRmMGRlZjdiZTQ5Iiwic2NvcGUiOiJlbWFpbCBwcm9maWxlIiwic2lkIjoiNDU1OTYwZDAtNGEyZi00NzhhLTgzZDgtYzRmMGRlZjdiZTQ5In0.-U1cnUcTcECZqTLRBv4GGgrqc59wSBVQ7rrzEoqQlPs', refresh_expires_in=1800, token_expiry=datetime.datetime(2024, 3, 27, 17, 40, 24, 732462), refresh_expiry=datetime.datetime(2024, 3, 27, 17, 40, 24, 732462))"
     },
     "execution_count": 10,
     "metadata": {},
     "output_type": "execute_result"
    }
   ],
   "source": [
    "user_client.api_client.token_manager.token"
   ],
   "metadata": {
    "collapsed": false,
    "ExecuteTime": {
     "end_time": "2024-03-27T17:10:25.118770Z",
     "start_time": "2024-03-27T17:10:25.109991Z"
    }
   },
   "id": "a3bfb1bb56985744",
   "execution_count": 10
  },
  {
   "cell_type": "markdown",
   "source": [
    "# Functionalities\n",
    "\n",
    "## List of features\n",
    "- [List all available collections](#list_collections)\n",
    "- [Get a particular collection's details](#get_collection_info)\n",
    "- [Create a new collection](#new_collection)\n",
    "- [Upload to a collections](#upload_collection)\n",
    "- [List all available Ai Models](#list_ai_models)\n",
    "- [Get a particular model's info](#get_model_info)\n",
    "- [Get a Ai Model by its operation](#get_model_by_operation)\n",
    "- [Perform Completions](#completions)\n"
   ],
   "metadata": {
    "collapsed": false
   },
   "id": "e795bbde7dc907e"
  },
  {
   "cell_type": "markdown",
   "source": [
    "\n",
    "## 1. List all available collections"
   ],
   "metadata": {
    "collapsed": false
   },
   "id": "c6e7567f257202c"
  },
  {
   "cell_type": "code",
   "outputs": [
    {
     "data": {
      "text/plain": "[Collection(id='007b5933-40da-4983-96ad-ed680822a885', name='CTG_pre_chunked_docs', tags=[], states=['PARTLY_EMBEDDED', 'PARSED', 'CHUNKED'], documents_count=566, default=False, embedding_models=[AIModels(id='dda76f31-6ac5-4807-889a-299b41e8555e', name='bge-large-en-v1-5-egs', provider='HUGGING_FACE', default=False, tags=None, description=None)]),\n Collection(id='03198e38-e254-4115-bbef-ece825561691', name='CTG_docs_test_with_raw_content_10', tags=[], states=['PARTLY_EMBEDDED', 'PARSED', 'CHUNKED'], documents_count=112, default=False, embedding_models=[AIModels(id='dda76f31-6ac5-4807-889a-299b41e8555e', name='bge-large-en-v1-5-egs', provider='HUGGING_FACE', default=False, tags=None, description=None)]),\n Collection(id='0513318a-de87-4142-a681-5d9f1e0b8edf', name='stringe2', tags=[], states=['PARSED', 'CHUNKED', 'UN_EMBEDDED'], documents_count=1, default=False, embedding_models=[AIModels(id='dda76f31-6ac5-4807-889a-299b41e8555e', name='bge-large-en-v1-5-egs', provider='HUGGING_FACE', default=False, tags=None, description=None)]),\n Collection(id='06bdde5f-afa3-4e51-bd28-513520041c92', name='Liver Disease Test', tags=[], states=['FULLY_PROCESSED'], documents_count=1, default=False, embedding_models=[AIModels(id='7046fdc5-40a5-442c-adcf-6761f4059128', name='text-embedding-ada-002', provider='AZURE', default=False, tags=None, description=None)]),\n Collection(id='0cfeb0b3-493e-42c7-a600-19200f4c2d0a', name='Test Collection', tags=[], states=['UN_CHUNKED', 'UN_PARSED', 'UN_EMBEDDED'], documents_count=0, default=False, embedding_models=[]),\n Collection(id='0dd7b888-6937-4227-8e0a-f161ac9f96c8', name='Liver Disease Test', tags=[], states=['FULLY_PROCESSED'], documents_count=1, default=False, embedding_models=[AIModels(id='7046fdc5-40a5-442c-adcf-6761f4059128', name='text-embedding-ada-002', provider='AZURE', default=False, tags=None, description=None)]),\n Collection(id='0ef3f816-904f-4765-b2c6-73f6c9c184e1', name='Liver Disease Test', tags=[], states=['FULLY_PROCESSED'], documents_count=1, default=False, embedding_models=[AIModels(id='7046fdc5-40a5-442c-adcf-6761f4059128', name='text-embedding-ada-002', provider='AZURE', default=False, tags=None, description=None)]),\n Collection(id='10a02eec-a81a-48d9-94d3-c9329ad173c6', name='CTG Docs V1', tags=[], states=['FULLY_PROCESSED'], documents_count=114, default=False, embedding_models=[AIModels(id='7046fdc5-40a5-442c-adcf-6761f4059128', name='text-embedding-ada-002', provider='AZURE', default=False, tags=None, description=None)]),\n Collection(id='17af3e63-67fe-4e17-b358-27fe42a5879d', name='Gigaman_test', tags=[], states=['FULLY_PROCESSED'], documents_count=14, default=False, embedding_models=[AIModels(id='7046fdc5-40a5-442c-adcf-6761f4059128', name='text-embedding-ada-002', provider='AZURE', default=False, tags=None, description=None)]),\n Collection(id='191de5e5-e040-4cbe-9347-ca1c42707251', name='Test Collection', tags=[], states=['UN_CHUNKED', 'UN_PARSED', 'UN_EMBEDDED'], documents_count=0, default=False, embedding_models=[])]"
     },
     "execution_count": 11,
     "metadata": {},
     "output_type": "execute_result"
    }
   ],
   "source": [
    "collection = user_client.list_collections()\n",
    "collection"
   ],
   "metadata": {
    "collapsed": false,
    "ExecuteTime": {
     "end_time": "2024-03-27T17:10:34.169072Z",
     "start_time": "2024-03-27T17:10:31.490066Z"
    }
   },
   "id": "db8fc98f1abd7fac",
   "execution_count": 11
  },
  {
   "cell_type": "markdown",
   "source": [
    "## 2. Get a particular collection's details"
   ],
   "metadata": {
    "collapsed": false
   },
   "id": "ef923d985ff7d54e"
  },
  {
   "cell_type": "code",
   "outputs": [
    {
     "ename": "TypeError",
     "evalue": "ryght.models.data_models.Collection() argument after ** must be a mapping, not NoneType",
     "output_type": "error",
     "traceback": [
      "\u001B[0;31m---------------------------------------------------------------------------\u001B[0m",
      "\u001B[0;31mTypeError\u001B[0m                                 Traceback (most recent call last)",
      "Cell \u001B[0;32mIn[12], line 1\u001B[0m\n\u001B[0;32m----> 1\u001B[0m collection \u001B[38;5;241m=\u001B[39m \u001B[43muser_client\u001B[49m\u001B[38;5;241;43m.\u001B[39;49m\u001B[43mget_collection_by_id\u001B[49m\u001B[43m(\u001B[49m\u001B[38;5;124;43m'\u001B[39;49m\u001B[38;5;124;43m4c1ea76e-2d63-4986-abe2-40c6a58dec3e\u001B[39;49m\u001B[38;5;124;43m'\u001B[39;49m\u001B[43m)\u001B[49m\n\u001B[1;32m      2\u001B[0m collection\n",
      "File \u001B[0;32m~/wd/synthetica_bio/gitlab/platform-client-starter-python/.venv/lib/python3.11/site-packages/ryght/interface/client.py:88\u001B[0m, in \u001B[0;36mBaseClient.get_collection_by_id\u001B[0;34m(self, collection_id)\u001B[0m\n\u001B[1;32m     87\u001B[0m \u001B[38;5;28;01mdef\u001B[39;00m \u001B[38;5;21mget_collection_by_id\u001B[39m(\u001B[38;5;28mself\u001B[39m, collection_id: \u001B[38;5;28mstr\u001B[39m) \u001B[38;5;241m-\u001B[39m\u001B[38;5;241m>\u001B[39m Collection:\n\u001B[0;32m---> 88\u001B[0m     \u001B[38;5;28;01mreturn\u001B[39;00m \u001B[38;5;28;43mself\u001B[39;49m\u001B[38;5;241;43m.\u001B[39;49m\u001B[43mapi_client\u001B[49m\u001B[38;5;241;43m.\u001B[39;49m\u001B[43mget_collection_details\u001B[49m\u001B[43m(\u001B[49m\u001B[43mcollection_id\u001B[49m\u001B[43m)\u001B[49m\n",
      "File \u001B[0;32m~/wd/synthetica_bio/gitlab/platform-client-starter-python/.venv/lib/python3.11/site-packages/ryght/clients/api.py:100\u001B[0m, in \u001B[0;36mApiClient.get_collection_details\u001B[0;34m(self, collection_id)\u001B[0m\n\u001B[1;32m     93\u001B[0m url \u001B[38;5;241m=\u001B[39m url\u001B[38;5;241m.\u001B[39mformat(\u001B[38;5;28mid\u001B[39m\u001B[38;5;241m=\u001B[39mcollection_id)\n\u001B[1;32m     94\u001B[0m result \u001B[38;5;241m=\u001B[39m \u001B[38;5;28mself\u001B[39m\u001B[38;5;241m.\u001B[39mexecute_request(\n\u001B[1;32m     95\u001B[0m     method\u001B[38;5;241m=\u001B[39mRequestMethods\u001B[38;5;241m.\u001B[39mGET,\n\u001B[1;32m     96\u001B[0m     url\u001B[38;5;241m=\u001B[39murl,\n\u001B[1;32m     97\u001B[0m     headers\u001B[38;5;241m=\u001B[39m\u001B[38;5;28mself\u001B[39m\u001B[38;5;241m.\u001B[39mget_headers()\n\u001B[1;32m     98\u001B[0m )\n\u001B[0;32m--> 100\u001B[0m \u001B[38;5;28;01mreturn\u001B[39;00m Collection(\u001B[38;5;241m*\u001B[39m\u001B[38;5;241m*\u001B[39mresult)\n",
      "\u001B[0;31mTypeError\u001B[0m: ryght.models.data_models.Collection() argument after ** must be a mapping, not NoneType"
     ]
    }
   ],
   "source": [
    "collection = user_client.get_collection_by_id('4c1ea76e-2d63-4986-abe2-40c6a58dec3e')\n",
    "collection"
   ],
   "metadata": {
    "collapsed": false,
    "ExecuteTime": {
     "end_time": "2024-03-27T17:10:34.626220Z",
     "start_time": "2024-03-27T17:10:34.171002Z"
    }
   },
   "id": "cdf22cc9f209f717",
   "execution_count": 12
  },
  {
   "cell_type": "markdown",
   "source": [
    "## 3. Create a new collection"
   ],
   "metadata": {
    "collapsed": false
   },
   "id": "51a624e4974a013b"
  },
  {
   "cell_type": "code",
   "outputs": [
    {
     "data": {
      "text/plain": "'8111c28e-7cb2-40a5-bf7c-97e78ab3efdb'"
     },
     "execution_count": 34,
     "metadata": {},
     "output_type": "execute_result"
    }
   ],
   "source": [
    "collection_id = user_client.create_new_collection('Toll Gates')\n",
    "collection_id"
   ],
   "metadata": {
    "collapsed": false,
    "ExecuteTime": {
     "end_time": "2024-03-27T17:16:55.344845Z",
     "start_time": "2024-03-27T17:16:55.071660Z"
    }
   },
   "id": "6544da37c16859f",
   "execution_count": 34
  },
  {
   "cell_type": "markdown",
   "source": [
    "## 4. Upload to a Collection\n",
    "\n",
    "### 4.1 Upload using a JsonDocument Obj"
   ],
   "metadata": {
    "collapsed": false
   },
   "id": "17b0b569fc9b1b15"
  },
  {
   "cell_type": "code",
   "outputs": [
    {
     "data": {
      "text/plain": "'{\"name\":\"string35.json\",\"content\":\"string\",\"metadata\":{\"doi\":\"string\",\"source_path\":\"string\",\"extra_fields\":{\"additionalProp1\":\"foo\"},\"title\":\"string\",\"documentAbstract\":\"string\",\"authors\":[{\"firstName\":\"string\",\"lastName\":\"string\"}]}}'"
     },
     "execution_count": 35,
     "metadata": {},
     "output_type": "execute_result"
    }
   ],
   "source": [
    "dcument = {\n",
    "  \"name\": \"string35.json\",\n",
    "  \"content\": \"string\",\n",
    "  \"metadata\": {\n",
    "    \"title\": \"string\",\n",
    "    \"documentAbstract\": \"string\",\n",
    "    \"authors\": [\n",
    "      {\n",
    "        \"firstName\": \"string\",\n",
    "        \"lastName\": \"string\"\n",
    "      }\n",
    "    ],\n",
    "    \"doi\": \"string\",\n",
    "    \"source\": \"string\",\n",
    "    \"extraFields\": {\n",
    "      \"additionalProp1\": \"foo\"\n",
    "    }\n",
    "  }\n",
    "}\n",
    "JsonDocument(**dcument).model_dump_json()"
   ],
   "metadata": {
    "collapsed": false,
    "ExecuteTime": {
     "end_time": "2024-03-27T17:16:55.446123Z",
     "start_time": "2024-03-27T17:16:55.441586Z"
    }
   },
   "id": "8cb961cfa93c11bd",
   "execution_count": 35
  },
  {
   "cell_type": "code",
   "outputs": [
    {
     "data": {
      "text/plain": "{'traceId': 'd01a3ba2c670a24a7191f7f960066b6e'}"
     },
     "execution_count": 36,
     "metadata": {},
     "output_type": "execute_result"
    }
   ],
   "source": [
    "trace_id = user_client.upload_a_new_doc_to_collection(collection_id, JsonDocument(**dcument))\n",
    "trace_id"
   ],
   "metadata": {
    "collapsed": false,
    "ExecuteTime": {
     "end_time": "2024-03-27T17:16:55.947766Z",
     "start_time": "2024-03-27T17:16:55.599645Z"
    }
   },
   "id": "245d5e8ce320cea8",
   "execution_count": 36
  },
  {
   "cell_type": "markdown",
   "source": [
    "### Tracking the status of the upload"
   ],
   "metadata": {
    "collapsed": false
   },
   "id": "12f9df98d8acb93d"
  },
  {
   "cell_type": "code",
   "outputs": [
    {
     "data": {
      "text/plain": "TraceStatus(status='PROCESSED', message='')"
     },
     "execution_count": 37,
     "metadata": {},
     "output_type": "execute_result"
    }
   ],
   "source": [
    "user_client.get_status_using_trace_id(trace_id.get('traceId'))"
   ],
   "metadata": {
    "collapsed": false,
    "ExecuteTime": {
     "end_time": "2024-03-27T17:16:57.640713Z",
     "start_time": "2024-03-27T17:16:57.375069Z"
    }
   },
   "id": "90ad26e89af129ed",
   "execution_count": 37
  },
  {
   "cell_type": "markdown",
   "source": [
    "### 4.2 Using a PDF file"
   ],
   "metadata": {
    "collapsed": false
   },
   "id": "827d3aee29b8d5fe"
  },
  {
   "cell_type": "code",
   "outputs": [
    {
     "data": {
      "text/plain": "{'traceId': 'd434467b029479425cb0200f3390c272'}"
     },
     "execution_count": 42,
     "metadata": {},
     "output_type": "execute_result"
    }
   ],
   "source": [
    "trace_id = user_client.upload_a_new_pdf_to_collection(\n",
    "    collection_id,\n",
    "    './data/t1.pdf',\n",
    "    'sumo_man.pdf'\n",
    ")\n",
    "trace_id"
   ],
   "metadata": {
    "collapsed": false,
    "ExecuteTime": {
     "end_time": "2024-03-27T17:17:06.498914Z",
     "start_time": "2024-03-27T17:17:05.778576Z"
    }
   },
   "id": "6ec4f4ca7ad1d7b3",
   "execution_count": 42
  },
  {
   "cell_type": "markdown",
   "source": [
    "### Tracking the status of the upload"
   ],
   "metadata": {
    "collapsed": false
   },
   "id": "eb5573594810b5a5"
  },
  {
   "cell_type": "code",
   "outputs": [
    {
     "data": {
      "text/plain": "TraceStatus(status='IN_PROCESS', message='')"
     },
     "execution_count": 43,
     "metadata": {},
     "output_type": "execute_result"
    }
   ],
   "source": [
    "user_client.get_status_using_trace_id(trace_id.get('traceId'))"
   ],
   "metadata": {
    "collapsed": false,
    "ExecuteTime": {
     "end_time": "2024-03-27T17:17:06.951623Z",
     "start_time": "2024-03-27T17:17:06.694089Z"
    }
   },
   "id": "b899905e5cfa84e0",
   "execution_count": 43
  },
  {
   "cell_type": "markdown",
   "source": [
    "## 05. Models - Get all models"
   ],
   "metadata": {
    "collapsed": false
   },
   "id": "b176a5d9f5d93053"
  },
  {
   "cell_type": "code",
   "outputs": [],
   "source": [
    "user_client.list_models()"
   ],
   "metadata": {
    "collapsed": false
   },
   "id": "432eb5568385ff70",
   "execution_count": null
  },
  {
   "cell_type": "markdown",
   "source": [
    "# Models\n",
    "## 6. List all available Ai Models"
   ],
   "metadata": {
    "collapsed": false
   },
   "id": "1caf748a8a873f32"
  },
  {
   "cell_type": "code",
   "outputs": [],
   "source": [
    "user_client.get_model('84c2ea0d-da42-4dc2-9950-5ae0a4cd57b7')"
   ],
   "metadata": {
    "collapsed": false
   },
   "id": "405d565a79f8c4c1",
   "execution_count": null
  },
  {
   "cell_type": "markdown",
   "source": [
    "\n",
    "## 7. Get a particular model's info"
   ],
   "metadata": {
    "collapsed": false
   },
   "id": "e35c5ec95a27b994"
  },
  {
   "cell_type": "code",
   "outputs": [],
   "source": [
    "user_client.get_model('84c2ea0d-da42-4dc2-9950-5ae0a4cd57b7')"
   ],
   "metadata": {
    "collapsed": false
   },
   "id": "cdd23a30f60c4de4",
   "execution_count": null
  },
  {
   "cell_type": "markdown",
   "source": [
    "## 8. Get a Ai Model by its operation"
   ],
   "metadata": {
    "collapsed": false
   },
   "id": "cc5fa4ca539d39e7"
  },
  {
   "cell_type": "code",
   "outputs": [],
   "source": [
    "user_client.get_model_by_operation(ModelOperation.EMBEDDING)"
   ],
   "metadata": {
    "collapsed": false
   },
   "id": "37ad62829de0c4ff",
   "execution_count": null
  },
  {
   "cell_type": "code",
   "outputs": [],
   "source": [
    "user_client.get_model_by_operation(ModelOperation.COMPLETION)"
   ],
   "metadata": {
    "collapsed": false
   },
   "id": "8478ab4251ba8464",
   "execution_count": null
  },
  {
   "cell_type": "markdown",
   "source": [
    "## 9. Completions\n",
    "### 9.1 SEARCH"
   ],
   "metadata": {
    "collapsed": false
   },
   "id": "48f25adcb8af6d"
  },
  {
   "cell_type": "code",
   "outputs": [],
   "source": [
    "result = user_client.completions(\n",
    "    'High risk factor in case of Lymphoma patient?',\n",
    "    collection_id='4c1ea76e-2d63-4986-abe2-40c6a58dec3e',    \n",
    ")\n",
    "\n",
    "\n",
    "result"
   ],
   "metadata": {
    "collapsed": false
   },
   "id": "79b5628ec98c2e8b",
   "execution_count": null
  },
  {
   "cell_type": "markdown",
   "source": [
    "### 9.2 REASON"
   ],
   "metadata": {
    "collapsed": false
   },
   "id": "c6283ef2663ba0f7"
  },
  {
   "cell_type": "code",
   "outputs": [],
   "source": [
    "result = user_client.completions(\n",
    "    'High risk factor in case of Lymphoma patient?',\n",
    "    flow=FlowTypes.REASON,\n",
    "    collection_id=[],\n",
    "    completion_model_id=\"ce1a6082-4869-4dce-89f0-473ecf568052\",\n",
    ")\n",
    "result"
   ],
   "metadata": {
    "collapsed": false
   },
   "id": "be39d0b61ce048c8",
   "execution_count": null
  },
  {
   "cell_type": "markdown",
   "source": [
    "### 9.3 SEARCH_AND_REASON"
   ],
   "metadata": {
    "collapsed": false
   },
   "id": "42425f756cf95e91"
  },
  {
   "cell_type": "code",
   "outputs": [],
   "source": [
    "result = user_client.completions(\n",
    "    'High risk factor in case of Lymphoma patient?',\n",
    "    flow=FlowTypes.SEARCH_AND_REASON,\n",
    "    collection_id=['a12fceb5-f999-4be7-9cec-bc30cf97bdd7', '22fe83cd-5779-4e29-be64-ca15ab71250f'],\n",
    "    completion_model_id=\"ce1a6082-4869-4dce-89f0-473ecf568052\"\n",
    ")\n",
    "result"
   ],
   "metadata": {
    "collapsed": false
   },
   "id": "bff2a1eaf65c622d",
   "execution_count": null
  },
  {
   "cell_type": "code",
   "outputs": [],
   "source": [],
   "metadata": {
    "collapsed": false
   },
   "id": "a836af0d88f9c21d"
  }
 ],
 "metadata": {
  "kernelspec": {
   "display_name": "Python 3",
   "language": "python",
   "name": "python3"
  },
  "language_info": {
   "codemirror_mode": {
    "name": "ipython",
    "version": 2
   },
   "file_extension": ".py",
   "mimetype": "text/x-python",
   "name": "python",
   "nbconvert_exporter": "python",
   "pygments_lexer": "ipython2",
   "version": "2.7.6"
  }
 },
 "nbformat": 4,
 "nbformat_minor": 5
}
